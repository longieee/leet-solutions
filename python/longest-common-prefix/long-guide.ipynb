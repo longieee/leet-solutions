{
 "cells": [
  {
   "cell_type": "code",
   "execution_count": 63,
   "metadata": {},
   "outputs": [],
   "source": [
    "strs = [\"flower\",\"flow\",\"flight\"]\n",
    "\n",
    "def longestCommonPrefix(strs) -> str:\n",
    "    min_len = min(\n",
    "        [len(word) for word in strs]\n",
    "    )\n",
    "    longest_prefix = \"\"\n",
    "\n",
    "    for idx in range(min_len):\n",
    "        current_char = strs[0][idx]\n",
    "        for word in strs[1:]:\n",
    "            if word[idx] != current_char:\n",
    "                return longest_prefix\n",
    "\n",
    "        longest_prefix += strs[0][idx] \n",
    "            \n",
    "    return longest_prefix   "
   ]
  },
  {
   "cell_type": "code",
   "execution_count": 64,
   "metadata": {},
   "outputs": [
    {
     "data": {
      "text/plain": [
       "'fl'"
      ]
     },
     "execution_count": 64,
     "metadata": {},
     "output_type": "execute_result"
    }
   ],
   "source": [
    "longestCommonPrefix(strs)"
   ]
  }
 ],
 "metadata": {
  "kernelspec": {
   "display_name": "veritone",
   "language": "python",
   "name": "python3"
  },
  "language_info": {
   "codemirror_mode": {
    "name": "ipython",
    "version": 3
   },
   "file_extension": ".py",
   "mimetype": "text/x-python",
   "name": "python",
   "nbconvert_exporter": "python",
   "pygments_lexer": "ipython3",
   "version": "3.10.6"
  },
  "orig_nbformat": 4,
  "vscode": {
   "interpreter": {
    "hash": "a3d005472810d930c7c294cebd3957c995bf7ee8f255b01bca178ed7f33539d6"
   }
  }
 },
 "nbformat": 4,
 "nbformat_minor": 2
}
